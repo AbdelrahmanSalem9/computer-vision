{
  "nbformat": 4,
  "nbformat_minor": 0,
  "metadata": {
    "colab": {
      "provenance": []
    },
    "kernelspec": {
      "name": "python3",
      "display_name": "Python 3"
    },
    "language_info": {
      "name": "python"
    }
  },
  "cells": [
    {
      "cell_type": "markdown",
      "source": [
        "# Imports"
      ],
      "metadata": {
        "id": "d29A4u0EfIbE"
      }
    },
    {
      "cell_type": "code",
      "execution_count": null,
      "metadata": {
        "id": "q3jxR083fDgq"
      },
      "outputs": [],
      "source": [
        "import cv2\n",
        "import numpy as np\n",
        "from google.colab import drive\n",
        "# drive.mount('/content/drive')"
      ]
    },
    {
      "cell_type": "markdown",
      "source": [
        "# Reading file"
      ],
      "metadata": {
        "id": "6hPDq86pfaF7"
      }
    },
    {
      "cell_type": "code",
      "source": [
        "car = np.load('/content/car2.npy', mmap_mode='r')"
      ],
      "metadata": {
        "id": "W77-kPfdflW2"
      },
      "execution_count": 3,
      "outputs": []
    },
    {
      "cell_type": "markdown",
      "source": [
        "# Initial template"
      ],
      "metadata": {
        "id": "DagvYNa8f33M"
      }
    },
    {
      "cell_type": "code",
      "source": [
        "templates = [ [ [50,110], [160,160] ] ]"
      ],
      "metadata": {
        "id": "f3MDCbqDv84H"
      },
      "execution_count": 4,
      "outputs": []
    },
    {
      "cell_type": "markdown",
      "source": [
        "# Get Templates"
      ],
      "metadata": {
        "id": "wONjLRuugEm1"
      }
    },
    {
      "cell_type": "code",
      "source": [
        "def jacobian_cal(updated_rect, sobel_x, sobel_y):\n",
        "  A = []\n",
        "  for j in range(updated_rect[1],updated_rect[3]):\n",
        "    for k in range(updated_rect[0],updated_rect[2]):\n",
        "      delta_I = np.array([sobel_x[j][k], sobel_y[j][k]])\n",
        "      jacobian_mat = np.array([[k,0,j,0,1,0],[0,k,0,j,0,1]])\n",
        "      matrix = np.matmul(delta_I, jacobian_mat)\n",
        "      A.append(matrix)\n",
        "  return A"
      ],
      "metadata": {
        "id": "mqoao-i9oU7O"
      },
      "execution_count": 5,
      "outputs": []
    },
    {
      "cell_type": "code",
      "source": [
        "def Lucas_Kanade(I, p_prev, diff, T, curr_rect, threshold, max_iteration):\n",
        "  sobel_x = cv2.Sobel(I, cv2.CV_64F, dx = 1, dy = 0, ksize = 5)\n",
        "  sobel_y = cv2.Sobel(I, cv2.CV_64F, dx = 0, dy = 1, ksize = 5)\n",
        "\n",
        "  count = 0\n",
        "  while (diff >= threshold) and count <= max_iteration:\n",
        "    params = np.array([[1+p_prev[0], p_prev[2], p_prev[4]], [p_prev[1], 1+p_prev[3], p_prev[5]]])\n",
        "\n",
        "    tl = np.array([[curr_rect[0]],[curr_rect[1]],[1]])\n",
        "    br = np.array([[curr_rect[2]],[curr_rect[3]],[1]])\n",
        "\n",
        "    tl_dash = np.dot(params,tl)\n",
        "    tl_x, tl_y = max(0, tl_dash[0][0]), max(0, tl_dash[1][0])\n",
        "\n",
        "    br_x, br_y = min(I.shape[1], tl_x+110), min(I.shape[0], tl_y+50)\n",
        "\n",
        "    updated_rect = [int(tl_x), int(tl_y), int(br_x), int(br_y)]\n",
        "    warped_I = cv2.warpAffine(src=I,M=np.array(params, dtype=np.float32),dsize=(I.shape[1],I.shape[0]))\n",
        "    warped_I = warped_I[updated_rect[1]:updated_rect[3], updated_rect[0]:updated_rect[2]]\n",
        "    curr_frame_cropped_h, curr_frame_cropped_w = warped_I.shape\n",
        "\n",
        "    warped_I = warped_I.reshape(((warped_I.shape[0]*warped_I.shape[1]),1))\n",
        "\n",
        "    T_dash = T.copy()\n",
        "    T_dash = T_dash[0:curr_frame_cropped_h, 0:curr_frame_cropped_w]\n",
        "\n",
        "    T_dash = T_dash.reshape(((T_dash.shape[0]*T_dash.shape[1]),1))\n",
        "    error = T_dash.astype(int) - warped_I.astype(int)\n",
        "\n",
        "    A = jacobian_cal(updated_rect, sobel_x, sobel_y)\n",
        "    \n",
        "    Hessian = np.matmul(np.transpose(np.array(A)),np.array(A))\n",
        "    Hessian_inv = np.linalg.pinv(Hessian)\n",
        "    delta_P = np.matmul(np.matmul(Hessian_inv,np.transpose(np.array(A))),error)\n",
        "\n",
        "    p_prev += delta_P.reshape((-1))\n",
        "    diff = np.linalg.norm(delta_P)\n",
        "\n",
        "    count += 1\n",
        "\n",
        "  return params"
      ],
      "metadata": {
        "id": "v5VcXsHrkQ95"
      },
      "execution_count": 6,
      "outputs": []
    },
    {
      "cell_type": "code",
      "source": [
        "def tracker(T, curr_rect, frames, threshold, max_iteration):\n",
        "\n",
        "  for i in range(1,frames.shape[2]):\n",
        "      \n",
        "    p = np.zeros(6)\n",
        "    p_prev = p\n",
        "    \n",
        "    diff = np.inf\n",
        "    \n",
        "    I = frames[:,:,i]\n",
        "    \n",
        "    params = Lucas_Kanade(I, p_prev, diff, T, curr_rect, threshold, max_iteration)\n",
        "    \n",
        "    tl = np.array([[curr_rect[0]],[curr_rect[1]],[1]])\n",
        "    br = np.array([[curr_rect[2]],[curr_rect[3]],[1]])\n",
        "\n",
        "    tl_dash = np.dot(params,tl)\n",
        "    tl_dash = tl_dash.reshape((1,2))\n",
        "\n",
        "    br_dash = np.dot(params, br)\n",
        "    br_dash = br_dash.reshape((1,2))\n",
        "\n",
        "    tl_x, tl_y = max(0, tl_dash[0][0]), max(0, tl_dash[0][1])\n",
        "    br_x, br_y = min(I.shape[1], tl_x+108), min(I.shape[0], tl_y+53)\n",
        "\n",
        "    curr_rect = [int(tl_x), int(tl_y), int(br_x), int(br_y)]\n",
        "\n",
        "    templates.append([[int(tl_x),int(tl_y)],[int(br_x),int(br_y)]])\n",
        "\n",
        "    print(i)\n",
        "\n",
        "  return templates"
      ],
      "metadata": {
        "id": "q8NK_Sofj2rx"
      },
      "execution_count": 7,
      "outputs": []
    },
    {
      "cell_type": "code",
      "source": [
        "def get_templates(frames, templates, threshold, max_iteration):\n",
        "    \n",
        "    I_dash = frames[:,:,0]\n",
        "    T = I_dash[templates[0][0][1]:templates[0][1][1], templates[0][0][0]:templates[0][1][0]] \n",
        "    \n",
        "    curr_rect = [templates[0][0][0], templates[0][0][1], templates[0][1][0], templates[0][1][1]]\n",
        "\n",
        "    templates = tracker(T, curr_rect, frames, threshold, max_iteration)\n",
        "      \n",
        "    return templates"
      ],
      "metadata": {
        "id": "UgnFZ48Mf2dC"
      },
      "execution_count": 8,
      "outputs": []
    },
    {
      "cell_type": "code",
      "source": [
        "templates = get_templates(car, templates, 0.001, 200)"
      ],
      "metadata": {
        "colab": {
          "base_uri": "https://localhost:8080/"
        },
        "id": "d281YSAQgTJA",
        "outputId": "c7eb3d20-ef3f-4b68-cd6d-4c5868efab2e"
      },
      "execution_count": null,
      "outputs": [
        {
          "output_type": "stream",
          "name": "stdout",
          "text": [
            "1\n",
            "2\n",
            "3\n",
            "4\n",
            "5\n",
            "6\n",
            "7\n",
            "8\n",
            "9\n",
            "10\n",
            "11\n",
            "12\n",
            "13\n",
            "14\n",
            "15\n",
            "16\n",
            "17\n",
            "18\n",
            "19\n",
            "20\n",
            "21\n",
            "22\n",
            "23\n",
            "24\n",
            "25\n",
            "26\n",
            "27\n",
            "28\n",
            "29\n",
            "30\n",
            "31\n",
            "32\n",
            "33\n",
            "34\n",
            "35\n",
            "36\n",
            "37\n",
            "38\n",
            "39\n",
            "40\n",
            "41\n",
            "42\n",
            "43\n",
            "44\n",
            "45\n",
            "46\n",
            "47\n",
            "48\n",
            "49\n",
            "50\n",
            "51\n",
            "52\n",
            "53\n",
            "54\n",
            "55\n",
            "56\n",
            "57\n",
            "58\n",
            "59\n",
            "60\n",
            "61\n",
            "62\n",
            "63\n",
            "64\n",
            "65\n",
            "66\n",
            "67\n",
            "68\n",
            "69\n",
            "70\n",
            "71\n",
            "72\n",
            "73\n",
            "74\n",
            "75\n",
            "76\n",
            "77\n",
            "78\n",
            "79\n",
            "80\n",
            "81\n",
            "82\n"
          ]
        }
      ]
    },
    {
      "cell_type": "markdown",
      "source": [
        "# Output video"
      ],
      "metadata": {
        "id": "L3vP7G_sy6BR"
      }
    },
    {
      "cell_type": "code",
      "source": [
        "h, w = car[:,:,0].shape\n",
        "fourcc = cv2.VideoWriter_fourcc(*'XVID')\n",
        "out = cv2.VideoWriter('Car_2.mp4', fourcc, 10.0, (w, h))\n",
        "\n",
        "for i in range(car.shape[2]):\n",
        "  frame = car[:,:,i].copy()\n",
        "  output_frame = cv2.rectangle(frame, (templates[i][0][0],templates[i][0][1]), (templates[i][1][0], templates[i][1][1]), (0, 0, 0), 2)\n",
        "  output_frame = cv2.cvtColor(output_frame, cv2.COLOR_GRAY2RGB)\n",
        "  out.write(output_frame)\n",
        "\n",
        "out.release()"
      ],
      "metadata": {
        "id": "teXhI6_9gUtC"
      },
      "execution_count": null,
      "outputs": []
    }
  ]
}